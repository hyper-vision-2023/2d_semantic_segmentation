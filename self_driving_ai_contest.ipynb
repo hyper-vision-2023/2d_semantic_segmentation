{
  "nbformat": 4,
  "nbformat_minor": 0,
  "metadata": {
    "colab": {
      "provenance": [],
      "gpuType": "T4"
    },
    "kernelspec": {
      "name": "python3",
      "display_name": "Python 3"
    },
    "language_info": {
      "name": "python"
    },
    "accelerator": "GPU"
  },
  "cells": [
    {
      "cell_type": "code",
      "execution_count": null,
      "metadata": {
        "id": "uNr4FbBHEpHV"
      },
      "outputs": [],
      "source": [
        "from google.colab import drive\n",
        "drive.mount(\"/content/drive\")"
      ]
    },
    {
      "cell_type": "code",
      "source": [
        "!tar -xf /content/drive/MyDrive/upload.tar\n",
        "!chown -R root:root /content/Pytorch-UNet\n",
        "%cd /content/Pytorch-UNet"
      ],
      "metadata": {
        "id": "rrmgfq1VHAXP"
      },
      "execution_count": null,
      "outputs": []
    },
    {
      "cell_type": "code",
      "source": [
        "!python3 -m pip install -r requirements.txt\n",
        "!python3 -m pip install torch torchvision"
      ],
      "metadata": {
        "id": "nzsKf4MnHKTn"
      },
      "execution_count": null,
      "outputs": []
    },
    {
      "cell_type": "code",
      "source": [
        "!python3 train.py --classes 27 --amp"
      ],
      "metadata": {
        "id": "vokAzTFPNB_a"
      },
      "execution_count": null,
      "outputs": []
    }
  ]
}